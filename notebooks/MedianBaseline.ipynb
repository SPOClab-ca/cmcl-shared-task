{
 "cells": [
  {
   "cell_type": "markdown",
   "metadata": {},
   "source": [
    "# Median Baseline"
   ]
  },
  {
   "cell_type": "code",
   "execution_count": 1,
   "metadata": {},
   "outputs": [],
   "source": [
    "import sys\n",
    "sys.path.append('../')\n",
    "\n",
    "import numpy as np\n",
    "import pandas as pd\n",
    "import matplotlib.pyplot as plt\n",
    "import seaborn as sns\n",
    "import tqdm\n",
    "import torch\n",
    "from collections import defaultdict, Counter\n",
    "import random\n",
    "import math\n",
    "import pickle\n",
    "\n",
    "import src.eval_metric\n",
    "\n",
    "%matplotlib inline\n",
    "%load_ext autoreload\n",
    "%autoreload 2\n",
    "pd.options.display.max_columns = 100\n",
    "pd.options.display.max_rows = 100"
   ]
  },
  {
   "cell_type": "code",
   "execution_count": 2,
   "metadata": {},
   "outputs": [],
   "source": [
    "train_df = pd.read_csv(\"../data/training_data/train.csv\")\n",
    "valid_df = pd.read_csv(\"../data/training_data/valid.csv\")"
   ]
  },
  {
   "cell_type": "code",
   "execution_count": 3,
   "metadata": {},
   "outputs": [],
   "source": [
    "predict_df = valid_df.copy()\n",
    "predict_df['nFix'] = train_df['nFix'].median()\n",
    "predict_df['FFD'] = train_df['FFD'].median()\n",
    "predict_df['GPT'] = train_df['GPT'].median()\n",
    "predict_df['TRT'] = train_df['TRT'].median()\n",
    "predict_df['fixProp'] = train_df['fixProp'].median()"
   ]
  },
  {
   "cell_type": "code",
   "execution_count": 4,
   "metadata": {},
   "outputs": [
    {
     "name": "stdout",
     "output_type": "stream",
     "text": [
      "MAE for nFix: 7.207899377948148\n",
      "MAE for FFD: 1.1622212627064243\n",
      "MAE for GPT: 3.5465590928641344\n",
      "MAE for TRT: 2.7315040522053993\n",
      "MAE for fixProp: 21.17857366126201\n",
      "Overall MAE: 7.165351489397224\n"
     ]
    },
    {
     "data": {
      "text/plain": [
       "7.165351489397224"
      ]
     },
     "execution_count": 4,
     "metadata": {},
     "output_type": "execute_result"
    }
   ],
   "source": [
    "src.eval_metric.evaluate(predict_df, valid_df)"
   ]
  }
 ],
 "metadata": {
  "kernelspec": {
   "display_name": "Python 3",
   "language": "python",
   "name": "python3"
  },
  "language_info": {
   "codemirror_mode": {
    "name": "ipython",
    "version": 3
   },
   "file_extension": ".py",
   "mimetype": "text/x-python",
   "name": "python",
   "nbconvert_exporter": "python",
   "pygments_lexer": "ipython3",
   "version": "3.7.5"
  }
 },
 "nbformat": 4,
 "nbformat_minor": 4
}
