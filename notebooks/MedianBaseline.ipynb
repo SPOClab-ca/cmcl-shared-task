{
 "cells": [
  {
   "cell_type": "markdown",
   "metadata": {},
   "source": [
    "# Median Baseline"
   ]
  },
  {
   "cell_type": "code",
   "execution_count": 1,
   "metadata": {},
   "outputs": [],
   "source": [
    "import sys\n",
    "sys.path.append('../')\n",
    "\n",
    "import numpy as np\n",
    "import pandas as pd\n",
    "import matplotlib.pyplot as plt\n",
    "import seaborn as sns\n",
    "import tqdm\n",
    "import torch\n",
    "from collections import defaultdict, Counter\n",
    "import random\n",
    "import math\n",
    "import pickle\n",
    "import string\n",
    "\n",
    "import wordfreq\n",
    "from sklearn.linear_model import LinearRegression\n",
    "from sklearn.svm import SVR\n",
    "\n",
    "import src.eval_metric\n",
    "\n",
    "%matplotlib inline\n",
    "%load_ext autoreload\n",
    "%autoreload 2\n",
    "pd.options.display.max_columns = 100\n",
    "pd.options.display.max_rows = 100"
   ]
  },
  {
   "cell_type": "code",
   "execution_count": 2,
   "metadata": {},
   "outputs": [],
   "source": [
    "train_df = pd.read_csv(\"../data/training_data/train.csv\")\n",
    "valid_df = pd.read_csv(\"../data/training_data/valid.csv\")"
   ]
  },
  {
   "cell_type": "code",
   "execution_count": 3,
   "metadata": {},
   "outputs": [],
   "source": [
    "output_var_names = ['nFix', 'FFD', 'GPT', 'TRT', 'fixProp']\n",
    "predict_df = valid_df.copy()\n",
    "for feat_name in output_var_names:\n",
    "  predict_df[feat_name] = train_df[feat_name].median()"
   ]
  },
  {
   "cell_type": "code",
   "execution_count": 4,
   "metadata": {},
   "outputs": [
    {
     "name": "stdout",
     "output_type": "stream",
     "text": [
      "MAE for nFix: 7.207899377948148\n",
      "MAE for FFD: 1.1622212627064243\n",
      "MAE for GPT: 3.5465590928641344\n",
      "MAE for TRT: 2.7315040522053993\n",
      "MAE for fixProp: 21.17857366126201\n",
      "Overall MAE: 7.165351489397224\n"
     ]
    },
    {
     "data": {
      "text/plain": [
       "7.165351489397224"
      ]
     },
     "execution_count": 4,
     "metadata": {},
     "output_type": "execute_result"
    }
   ],
   "source": [
    "src.eval_metric.evaluate(predict_df, valid_df)"
   ]
  },
  {
   "cell_type": "markdown",
   "metadata": {},
   "source": [
    "## Simple Feature-based Regression"
   ]
  },
  {
   "cell_type": "code",
   "execution_count": 5,
   "metadata": {},
   "outputs": [],
   "source": [
    "input_var_names = ['length', 'logfreq', 'has_upper', 'has_punct']\n",
    "def get_features(token):\n",
    "  token = token.replace('<EOS>', '')\n",
    "  return pd.Series({\n",
    "    'length': len(token),\n",
    "    'logfreq': wordfreq.zipf_frequency(token, 'en'),\n",
    "    'has_upper': 0 if token.lower() == token else 1,\n",
    "    'has_punct': 1 if any(j in string.punctuation for j in token) else 0,\n",
    "  })\n",
    "\n",
    "def clip_to_100(val):\n",
    "  if val < 0:\n",
    "    return 0\n",
    "  if val > 100:\n",
    "    return 100\n",
    "  return val"
   ]
  },
  {
   "cell_type": "code",
   "execution_count": 6,
   "metadata": {},
   "outputs": [],
   "source": [
    "train_df[input_var_names] = train_df.word.apply(get_features)"
   ]
  },
  {
   "cell_type": "code",
   "execution_count": 7,
   "metadata": {},
   "outputs": [],
   "source": [
    "valid_df[input_var_names] = valid_df.word.apply(get_features)"
   ]
  },
  {
   "cell_type": "code",
   "execution_count": 11,
   "metadata": {},
   "outputs": [],
   "source": [
    "predict_df = valid_df.copy()\n",
    "for feat_name in output_var_names:\n",
    "  #model = LinearRegression()\n",
    "  model = SVR()\n",
    "  \n",
    "  model.fit(train_df[input_var_names], train_df[feat_name])\n",
    "  predict_df[feat_name] = model.predict(predict_df[input_var_names])\n",
    "  predict_df[feat_name] = predict_df[feat_name].apply(clip_to_100)"
   ]
  },
  {
   "cell_type": "code",
   "execution_count": 12,
   "metadata": {},
   "outputs": [
    {
     "name": "stdout",
     "output_type": "stream",
     "text": [
      "MAE for nFix: 4.4395289012500205\n",
      "MAE for FFD: 0.7225204687081921\n",
      "MAE for GPT: 2.7281853027584533\n",
      "MAE for TRT: 1.72790986942936\n",
      "MAE for fixProp: 12.076806098390312\n",
      "Overall MAE: 4.338990128107268\n"
     ]
    },
    {
     "data": {
      "text/plain": [
       "4.338990128107268"
      ]
     },
     "execution_count": 12,
     "metadata": {},
     "output_type": "execute_result"
    }
   ],
   "source": [
    "src.eval_metric.evaluate(predict_df, valid_df)"
   ]
  }
 ],
 "metadata": {
  "kernelspec": {
   "display_name": "Python 3",
   "language": "python",
   "name": "python3"
  },
  "language_info": {
   "codemirror_mode": {
    "name": "ipython",
    "version": 3
   },
   "file_extension": ".py",
   "mimetype": "text/x-python",
   "name": "python",
   "nbconvert_exporter": "python",
   "pygments_lexer": "ipython3",
   "version": "3.7.5"
  }
 },
 "nbformat": 4,
 "nbformat_minor": 4
}
