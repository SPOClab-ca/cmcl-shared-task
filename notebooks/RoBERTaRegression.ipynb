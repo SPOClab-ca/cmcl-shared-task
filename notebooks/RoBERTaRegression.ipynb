{
 "cells": [
  {
   "cell_type": "markdown",
   "metadata": {},
   "source": [
    "# RoBERTa Regression"
   ]
  },
  {
   "cell_type": "code",
   "execution_count": 1,
   "metadata": {},
   "outputs": [],
   "source": [
    "import sys\n",
    "sys.path.append('../')\n",
    "\n",
    "import numpy as np\n",
    "import pandas as pd\n",
    "import matplotlib.pyplot as plt\n",
    "import seaborn as sns\n",
    "import tqdm\n",
    "import torch\n",
    "from collections import defaultdict, Counter\n",
    "import random\n",
    "import math\n",
    "import pickle\n",
    "\n",
    "import src.eval_metric\n",
    "import src.model\n",
    "import src.dataloader\n",
    "\n",
    "%matplotlib inline\n",
    "%load_ext autoreload\n",
    "%autoreload 2\n",
    "pd.options.display.max_columns = 100\n",
    "pd.options.display.max_rows = 100"
   ]
  },
  {
   "cell_type": "code",
   "execution_count": 2,
   "metadata": {},
   "outputs": [],
   "source": [
    "train_df = pd.read_csv(\"../data/training_data/train.csv\")\n",
    "valid_df = pd.read_csv(\"../data/training_data/valid.csv\")"
   ]
  },
  {
   "cell_type": "markdown",
   "metadata": {},
   "source": [
    "## Fine-tune model"
   ]
  },
  {
   "cell_type": "code",
   "execution_count": 3,
   "metadata": {},
   "outputs": [],
   "source": [
    "model_trainer = src.model.ModelTrainer()"
   ]
  },
  {
   "cell_type": "code",
   "execution_count": null,
   "metadata": {},
   "outputs": [],
   "source": [
    "model_trainer.train(train_df, valid_df, num_epochs=200)"
   ]
  },
  {
   "cell_type": "markdown",
   "metadata": {},
   "source": [
    "## Make predictions"
   ]
  },
  {
   "cell_type": "code",
   "execution_count": 5,
   "metadata": {},
   "outputs": [
    {
     "data": {
      "text/html": [
       "<div>\n",
       "<style scoped>\n",
       "    .dataframe tbody tr th:only-of-type {\n",
       "        vertical-align: middle;\n",
       "    }\n",
       "\n",
       "    .dataframe tbody tr th {\n",
       "        vertical-align: top;\n",
       "    }\n",
       "\n",
       "    .dataframe thead th {\n",
       "        text-align: right;\n",
       "    }\n",
       "</style>\n",
       "<table border=\"1\" class=\"dataframe\">\n",
       "  <thead>\n",
       "    <tr style=\"text-align: right;\">\n",
       "      <th></th>\n",
       "      <th>sentence_id</th>\n",
       "      <th>word_id</th>\n",
       "      <th>word</th>\n",
       "      <th>nFix</th>\n",
       "      <th>FFD</th>\n",
       "      <th>GPT</th>\n",
       "      <th>TRT</th>\n",
       "      <th>fixProp</th>\n",
       "    </tr>\n",
       "  </thead>\n",
       "  <tbody>\n",
       "    <tr>\n",
       "      <th>0</th>\n",
       "      <td>600</td>\n",
       "      <td>0</td>\n",
       "      <td>...</td>\n",
       "      <td>0.260938</td>\n",
       "      <td>0.059263</td>\n",
       "      <td>0.218759</td>\n",
       "      <td>0.087520</td>\n",
       "      <td>0.560813</td>\n",
       "    </tr>\n",
       "    <tr>\n",
       "      <th>1</th>\n",
       "      <td>600</td>\n",
       "      <td>1</td>\n",
       "      <td>a</td>\n",
       "      <td>4.175481</td>\n",
       "      <td>1.172498</td>\n",
       "      <td>2.003536</td>\n",
       "      <td>1.494043</td>\n",
       "      <td>24.356222</td>\n",
       "    </tr>\n",
       "    <tr>\n",
       "      <th>2</th>\n",
       "      <td>600</td>\n",
       "      <td>2</td>\n",
       "      <td>plotline</td>\n",
       "      <td>23.745108</td>\n",
       "      <td>4.265002</td>\n",
       "      <td>5.913286</td>\n",
       "      <td>8.261937</td>\n",
       "      <td>91.392609</td>\n",
       "    </tr>\n",
       "    <tr>\n",
       "      <th>3</th>\n",
       "      <td>600</td>\n",
       "      <td>3</td>\n",
       "      <td>that's</td>\n",
       "      <td>15.212073</td>\n",
       "      <td>3.571212</td>\n",
       "      <td>4.256042</td>\n",
       "      <td>4.989415</td>\n",
       "      <td>78.198639</td>\n",
       "    </tr>\n",
       "    <tr>\n",
       "      <th>4</th>\n",
       "      <td>600</td>\n",
       "      <td>4</td>\n",
       "      <td>as</td>\n",
       "      <td>10.793565</td>\n",
       "      <td>2.454098</td>\n",
       "      <td>2.942529</td>\n",
       "      <td>3.586541</td>\n",
       "      <td>55.459557</td>\n",
       "    </tr>\n",
       "    <tr>\n",
       "      <th>...</th>\n",
       "      <td>...</td>\n",
       "      <td>...</td>\n",
       "      <td>...</td>\n",
       "      <td>...</td>\n",
       "      <td>...</td>\n",
       "      <td>...</td>\n",
       "      <td>...</td>\n",
       "      <td>...</td>\n",
       "    </tr>\n",
       "    <tr>\n",
       "      <th>4000</th>\n",
       "      <td>799</td>\n",
       "      <td>4</td>\n",
       "      <td>and</td>\n",
       "      <td>6.018211</td>\n",
       "      <td>1.765774</td>\n",
       "      <td>2.139509</td>\n",
       "      <td>1.866820</td>\n",
       "      <td>41.260773</td>\n",
       "    </tr>\n",
       "    <tr>\n",
       "      <th>4001</th>\n",
       "      <td>799</td>\n",
       "      <td>5</td>\n",
       "      <td>patient</td>\n",
       "      <td>28.471136</td>\n",
       "      <td>4.908848</td>\n",
       "      <td>9.138694</td>\n",
       "      <td>10.194676</td>\n",
       "      <td>98.003769</td>\n",
       "    </tr>\n",
       "    <tr>\n",
       "      <th>4002</th>\n",
       "      <td>799</td>\n",
       "      <td>6</td>\n",
       "      <td>wife</td>\n",
       "      <td>15.604317</td>\n",
       "      <td>4.157703</td>\n",
       "      <td>7.670071</td>\n",
       "      <td>5.761319</td>\n",
       "      <td>85.168594</td>\n",
       "    </tr>\n",
       "    <tr>\n",
       "      <th>4003</th>\n",
       "      <td>799</td>\n",
       "      <td>7</td>\n",
       "      <td>of</td>\n",
       "      <td>6.256189</td>\n",
       "      <td>2.021344</td>\n",
       "      <td>6.008839</td>\n",
       "      <td>2.245694</td>\n",
       "      <td>41.451385</td>\n",
       "    </tr>\n",
       "    <tr>\n",
       "      <th>4004</th>\n",
       "      <td>799</td>\n",
       "      <td>8</td>\n",
       "      <td>Homer.&lt;EOS&gt;</td>\n",
       "      <td>16.997234</td>\n",
       "      <td>4.472079</td>\n",
       "      <td>21.692616</td>\n",
       "      <td>7.126937</td>\n",
       "      <td>80.222565</td>\n",
       "    </tr>\n",
       "  </tbody>\n",
       "</table>\n",
       "<p>4005 rows × 8 columns</p>\n",
       "</div>"
      ],
      "text/plain": [
       "      sentence_id  word_id         word       nFix       FFD        GPT  \\\n",
       "0             600        0          ...   0.260938  0.059263   0.218759   \n",
       "1             600        1            a   4.175481  1.172498   2.003536   \n",
       "2             600        2     plotline  23.745108  4.265002   5.913286   \n",
       "3             600        3       that's  15.212073  3.571212   4.256042   \n",
       "4             600        4           as  10.793565  2.454098   2.942529   \n",
       "...           ...      ...          ...        ...       ...        ...   \n",
       "4000          799        4          and   6.018211  1.765774   2.139509   \n",
       "4001          799        5      patient  28.471136  4.908848   9.138694   \n",
       "4002          799        6         wife  15.604317  4.157703   7.670071   \n",
       "4003          799        7           of   6.256189  2.021344   6.008839   \n",
       "4004          799        8  Homer.<EOS>  16.997234  4.472079  21.692616   \n",
       "\n",
       "            TRT    fixProp  \n",
       "0      0.087520   0.560813  \n",
       "1      1.494043  24.356222  \n",
       "2      8.261937  91.392609  \n",
       "3      4.989415  78.198639  \n",
       "4      3.586541  55.459557  \n",
       "...         ...        ...  \n",
       "4000   1.866820  41.260773  \n",
       "4001  10.194676  98.003769  \n",
       "4002   5.761319  85.168594  \n",
       "4003   2.245694  41.451385  \n",
       "4004   7.126937  80.222565  \n",
       "\n",
       "[4005 rows x 8 columns]"
      ]
     },
     "execution_count": 5,
     "metadata": {},
     "output_type": "execute_result"
    }
   ],
   "source": [
    "predict_df = model_trainer.predict(valid_df)\n",
    "predict_df"
   ]
  },
  {
   "cell_type": "code",
   "execution_count": 6,
   "metadata": {},
   "outputs": [],
   "source": [
    "predict_df.to_csv(\"predictions.csv\", index=False)"
   ]
  },
  {
   "cell_type": "code",
   "execution_count": 7,
   "metadata": {},
   "outputs": [
    {
     "name": "stdout",
     "output_type": "stream",
     "text": [
      "MAE for nFix: 4.071572415185019\n",
      "MAE for FFD: 0.6815733778790319\n",
      "MAE for GPT: 2.4627687859758933\n",
      "MAE for TRT: 1.5832330040899192\n",
      "MAE for fixProp: 11.010933385377287\n",
      "Overall MAE: 3.96201619370143\n"
     ]
    },
    {
     "data": {
      "text/plain": [
       "3.96201619370143"
      ]
     },
     "execution_count": 7,
     "metadata": {},
     "output_type": "execute_result"
    }
   ],
   "source": [
    "src.eval_metric.evaluate(predict_df, valid_df)"
   ]
  }
 ],
 "metadata": {
  "kernelspec": {
   "display_name": "Python 3",
   "language": "python",
   "name": "python3"
  },
  "language_info": {
   "codemirror_mode": {
    "name": "ipython",
    "version": 3
   },
   "file_extension": ".py",
   "mimetype": "text/x-python",
   "name": "python",
   "nbconvert_exporter": "python",
   "pygments_lexer": "ipython3",
   "version": "3.7.5"
  }
 },
 "nbformat": 4,
 "nbformat_minor": 4
}
