{
 "cells": [
  {
   "cell_type": "markdown",
   "metadata": {},
   "source": [
    "# Process Provo Corpus"
   ]
  },
  {
   "cell_type": "code",
   "execution_count": 1,
   "metadata": {},
   "outputs": [],
   "source": [
    "import sys\n",
    "sys.path.append('../')\n",
    "\n",
    "import numpy as np\n",
    "import pandas as pd\n",
    "import matplotlib.pyplot as plt\n",
    "import seaborn as sns\n",
    "import tqdm\n",
    "import torch\n",
    "from collections import defaultdict, Counter\n",
    "import random\n",
    "import math\n",
    "import pickle\n",
    "\n",
    "%matplotlib inline\n",
    "%load_ext autoreload\n",
    "%autoreload 2\n",
    "pd.options.display.max_columns = 100\n",
    "pd.options.display.max_rows = 100"
   ]
  },
  {
   "cell_type": "markdown",
   "metadata": {},
   "source": [
    "## Read data"
   ]
  },
  {
   "cell_type": "code",
   "execution_count": 2,
   "metadata": {},
   "outputs": [],
   "source": [
    "df_raw = pd.read_csv(\"../data/ProvoCorpus.csv\")"
   ]
  },
  {
   "cell_type": "code",
   "execution_count": 3,
   "metadata": {},
   "outputs": [],
   "source": [
    "# Rename to be similar to ZuCo\n",
    "df = pd.DataFrame({\n",
    "  'participant_id': df_raw['Participant_ID'],\n",
    "  'text_id': df_raw['Text_ID'],\n",
    "  'orig_sentence_id': df_raw['Sentence_Number'],\n",
    "  'word_id': df_raw['Word_In_Sentence_Number'],\n",
    "  'nFix': df_raw['IA_FIXATION_COUNT'],\n",
    "  'FFD': df_raw['IA_FIRST_FIXATION_DURATION'],\n",
    "  'GPT': df_raw['IA_REGRESSION_PATH_DURATION'],\n",
    "  'TRT': df_raw['IA_DWELL_TIME'],\n",
    "})\n",
    "df = df.fillna(0)\n",
    "df['orig_sentence_id'] = df['orig_sentence_id'].astype(int)\n",
    "df['word_id'] = df['word_id'].astype(int)\n",
    "df['nFix'] = df['nFix'].astype(float)\n",
    "df['TRT'] = df['TRT'].astype(float)"
   ]
  },
  {
   "cell_type": "code",
   "execution_count": 4,
   "metadata": {},
   "outputs": [
    {
     "data": {
      "text/plain": [
       "0          39\n",
       "1          39\n",
       "2          39\n",
       "3          39\n",
       "4          39\n",
       "         ... \n",
       "230407    168\n",
       "230408    168\n",
       "230409    168\n",
       "230410    166\n",
       "230411    166\n",
       "Length: 230412, dtype: int16"
      ]
     },
     "execution_count": 4,
     "metadata": {},
     "output_type": "execute_result"
    }
   ],
   "source": [
    "# Todo: start from 0\n",
    "(df['text_id'].astype(str) + '_' + df['orig_sentence_id'].astype(str)).astype('category').cat.codes"
   ]
  },
  {
   "cell_type": "markdown",
   "metadata": {},
   "source": [
    "## Take averages across participants"
   ]
  },
  {
   "cell_type": "raw",
   "metadata": {},
   "source": [
    "df.groupby(['sentence_id', 'word_id'])['nFix'].apply(lambda column: column.sum()/(column != 0).sum())"
   ]
  },
  {
   "cell_type": "raw",
   "metadata": {},
   "source": [
    "df.head(50)"
   ]
  }
 ],
 "metadata": {
  "kernelspec": {
   "display_name": "Python 3",
   "language": "python",
   "name": "python3"
  },
  "language_info": {
   "codemirror_mode": {
    "name": "ipython",
    "version": 3
   },
   "file_extension": ".py",
   "mimetype": "text/x-python",
   "name": "python",
   "nbconvert_exporter": "python",
   "pygments_lexer": "ipython3",
   "version": "3.7.5"
  }
 },
 "nbformat": 4,
 "nbformat_minor": 4
}
